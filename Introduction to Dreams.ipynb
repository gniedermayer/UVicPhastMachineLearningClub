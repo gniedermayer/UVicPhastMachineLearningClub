{
 "cells": [
  {
   "cell_type": "markdown",
   "metadata": {},
   "source": [
    "# Introduction to Dreams\n",
    "\n",
    "A trained network is needed to start dreaming the idea is to alter the input to optimize the \n",
    "\n",
    "$w_{t+1} = w_t + \\Delta w$ \n",
    "\n",
    "into\n",
    "\n",
    "$x_{t+1} = x_t + \\Delta x $\n",
    "\n",
    "So that our input is the variable we are changing"
   ]
  },
  {
   "cell_type": "code",
   "execution_count": null,
   "metadata": {
    "collapsed": true
   },
   "outputs": [],
   "source": []
  },
  {
   "cell_type": "markdown",
   "metadata": {},
   "source": [
    "## Dreaming about gaussians\n",
    "\n",
    "Let's start with gaussians"
   ]
  },
  {
   "cell_type": "code",
   "execution_count": null,
   "metadata": {
    "collapsed": true
   },
   "outputs": [],
   "source": []
  },
  {
   "cell_type": "markdown",
   "metadata": {},
   "source": [
    "## Constrainted Dreaming\n",
    "\n",
    "dreaming will quickily lead to untenable physical meaning which means we need to place some sort of constraint on our dreams for them to be physically meaningful (...wooah man)"
   ]
  },
  {
   "cell_type": "code",
   "execution_count": null,
   "metadata": {
    "collapsed": true
   },
   "outputs": [],
   "source": []
  }
 ],
 "metadata": {
  "kernelspec": {
   "display_name": "Python [conda root]",
   "language": "python",
   "name": "conda-root-py"
  },
  "language_info": {
   "codemirror_mode": {
    "name": "ipython",
    "version": 3
   },
   "file_extension": ".py",
   "mimetype": "text/x-python",
   "name": "python",
   "nbconvert_exporter": "python",
   "pygments_lexer": "ipython3",
   "version": "3.4.5"
  }
 },
 "nbformat": 4,
 "nbformat_minor": 0
}
