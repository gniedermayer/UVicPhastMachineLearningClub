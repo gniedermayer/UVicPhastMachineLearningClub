{
 "cells": [
  {
   "cell_type": "markdown",
   "metadata": {},
   "source": [
    "# Introduction to tensors\n",
    "\n",
    "---\n",
    "\n",
    "## From a computer science perspective\n",
    "\n",
    "This can most easy seen as a list or array of arrays. In this case the number of intertwinned tensors refers to the rank. \n",
    "\n",
    "Rank 0 is a scalar,\n",
    "Rank 1 is a vector, and\n",
    "Rank 2 is a matrix.\n",
    "\n",
    "Each rank has it's own dimensionality. Sometimes this is referred to as the shape of the tensor."
   ]
  },
  {
   "cell_type": "code",
   "execution_count": 3,
   "metadata": {
    "collapsed": false
   },
   "outputs": [
    {
     "name": "stdout",
     "output_type": "stream",
     "text": [
      "[[[[2, 1], [3, 3], [1, 2]], [[2, 1], [3, 3], [1, 2]], [[2, 1], [3, 3], [1, 2]]]]\n"
     ]
    },
    {
     "data": {
      "text/plain": [
       "3"
      ]
     },
     "execution_count": 3,
     "metadata": {},
     "output_type": "execute_result"
    }
   ],
   "source": [
    "r = 0 #(rank zero tensor)\n",
    "r = [12,3,4,5] #(rank 1 tensor with 4 dimensions or shape (,4) the comma is intentional)\n",
    "r = [[2,1],[3,3],[1,2]] #(rank 2 tensor with shape (3,2))\n",
    "r = [r,r,r] # (rank 3 tensor with shape (3,3,2))\n",
    "r = [r] # (rank 4 tensor (1,3,3,2))\n",
    "print(r)\n",
    "r[0][2][1][0] #Notice rank 4 tensors need 4 indices to refer to a location"
   ]
  },
  {
   "cell_type": "markdown",
   "metadata": {},
   "source": [
    "## From a math perspective\n",
    "\n",
    "another commonly used notation is representing a tensor by summation or matrices\n",
    "\n",
    "Let's start by quickly outlining the first 4 ranks of matrices\n",
    "\n",
    "$ \\begin{bmatrix}\n",
    "    x_{11}       & x_{12} & x_{13} & \\dots & x_{1n} \\\\\n",
    "    x_{21}       & x_{22} & x_{23} & \\dots & x_{2n} \\\\\n",
    "    \\vdots       & \\vdots & \\vdots & \\ddots & \\vdots\\\\\n",
    "    x_{d1}       & x_{d2} & x_{d3} & \\dots & x_{dn}\n",
    "\\end{bmatrix}$\n",
    "\n",
    "for a contraction of indices (going from a higher rank to lower rank"
   ]
  },
  {
   "cell_type": "code",
   "execution_count": null,
   "metadata": {
    "collapsed": true
   },
   "outputs": [],
   "source": []
  },
  {
   "cell_type": "markdown",
   "metadata": {},
   "source": [
    "## Fancy Indexing with Numpy\n",
    "\n",
    "Numpy has a number of tools to deal with tensor notation"
   ]
  },
  {
   "cell_type": "code",
   "execution_count": 31,
   "metadata": {
    "collapsed": false
   },
   "outputs": [
    {
     "name": "stdout",
     "output_type": "stream",
     "text": [
      "27\n",
      "27\n"
     ]
    }
   ],
   "source": [
    "import numpy as np\n",
    "r=np.arange(4**4) # Initializes an array\n",
    "r = r.reshape((4,4,4,4)) # Reshape to rank 4 tensor with shape(4,4,4,4)\n",
    "#Let's try some things out\n",
    "print(r[0][1][2][3])\n",
    "print(r[0,1,2,3])"
   ]
  },
  {
   "cell_type": "code",
   "execution_count": 14,
   "metadata": {
    "collapsed": false
   },
   "outputs": [
    {
     "name": "stdout",
     "output_type": "stream",
     "text": [
      "[[[ 64  65  66  67]\n",
      "  [ 68  69  70  71]\n",
      "  [ 72  73  74  75]\n",
      "  [ 76  77  78  79]]\n",
      "\n",
      " [[ 80  81  82  83]\n",
      "  [ 84  85  86  87]\n",
      "  [ 88  89  90  91]\n",
      "  [ 92  93  94  95]]\n",
      "\n",
      " [[ 96  97  98  99]\n",
      "  [100 101 102 103]\n",
      "  [104 105 106 107]\n",
      "  [108 109 110 111]]\n",
      "\n",
      " [[112 113 114 115]\n",
      "  [116 117 118 119]\n",
      "  [120 121 122 123]\n",
      "  [124 125 126 127]]]\n",
      "[[[ 16  17  18  19]\n",
      "  [ 20  21  22  23]\n",
      "  [ 24  25  26  27]\n",
      "  [ 28  29  30  31]]\n",
      "\n",
      " [[ 80  81  82  83]\n",
      "  [ 84  85  86  87]\n",
      "  [ 88  89  90  91]\n",
      "  [ 92  93  94  95]]\n",
      "\n",
      " [[144 145 146 147]\n",
      "  [148 149 150 151]\n",
      "  [152 153 154 155]\n",
      "  [156 157 158 159]]\n",
      "\n",
      " [[208 209 210 211]\n",
      "  [212 213 214 215]\n",
      "  [216 217 218 219]\n",
      "  [220 221 222 223]]]\n"
     ]
    }
   ],
   "source": [
    "# Some fancier things\n",
    "print(r[1]) #Row\n",
    "print(r[:,1]) #Column"
   ]
  },
  {
   "cell_type": "code",
   "execution_count": 23,
   "metadata": {
    "collapsed": false
   },
   "outputs": [
    {
     "data": {
      "text/plain": [
       "array([[[False, False, False,  True],\n",
       "        [False, False, False, False],\n",
       "        [False, False, False, False],\n",
       "        [False, False, False, False]],\n",
       "\n",
       "       [[False, False, False, False],\n",
       "        [False, False, False, False],\n",
       "        [False, False, False, False],\n",
       "        [False, False, False, False]],\n",
       "\n",
       "       [[False, False, False, False],\n",
       "        [False, False, False, False],\n",
       "        [False, False, False, False],\n",
       "        [False, False, False, False]],\n",
       "\n",
       "       [[False, False, False, False],\n",
       "        [False, False, False, False],\n",
       "        [False, False, False, False],\n",
       "        [False, False, False, False]]], dtype=bool)"
      ]
     },
     "execution_count": 23,
     "metadata": {},
     "output_type": "execute_result"
    }
   ],
   "source": [
    "r[:,0]==3 #Can be combined with boolean to give a truth array"
   ]
  },
  {
   "cell_type": "code",
   "execution_count": 24,
   "metadata": {
    "collapsed": false
   },
   "outputs": [
    {
     "data": {
      "text/plain": [
       "array([67])"
      ]
     },
     "execution_count": 24,
     "metadata": {},
     "output_type": "execute_result"
    }
   ],
   "source": [
    "r[1][r[:,0]==3] #Truth array can be fed back into array to find position"
   ]
  },
  {
   "cell_type": "code",
   "execution_count": 29,
   "metadata": {
    "collapsed": false
   },
   "outputs": [
    {
     "data": {
      "text/plain": [
       "array([ 12,  14,  16,  18,  20,  22,  24,  26,  28,  30,  32,  34,  36,\n",
       "        38,  40,  42,  44,  46,  48,  50,  52,  54,  56,  58,  60,  62,\n",
       "        64,  66,  68,  70,  72,  74,  76,  78,  80,  82,  84,  86,  88,\n",
       "        90,  92,  94,  96,  98, 100, 102, 104, 106, 108, 110, 112, 114,\n",
       "       116, 118, 120, 122, 124, 126, 128, 130, 132, 134, 136, 138, 140,\n",
       "       142, 144, 146, 148, 150, 152, 154, 156, 158, 160, 162, 164, 166,\n",
       "       168, 170, 172, 174, 176, 178, 180, 182, 184, 186, 188, 190, 192,\n",
       "       194, 196, 198, 200, 202, 204, 206, 208, 210, 212, 214, 216, 218,\n",
       "       220, 222, 224, 226, 228, 230, 232, 234, 236, 238, 240, 242, 244,\n",
       "       246, 248, 250, 252, 254])"
      ]
     },
     "execution_count": 29,
     "metadata": {},
     "output_type": "execute_result"
    }
   ],
   "source": [
    "r[(r%2==0)&(r>10)] # Operators can be combined with python bitwise operators"
   ]
  },
  {
   "cell_type": "code",
   "execution_count": 30,
   "metadata": {
    "collapsed": false
   },
   "outputs": [
    {
     "name": "stdout",
     "output_type": "stream",
     "text": [
      "[[[[  2   1   2   3]\n",
      "   [  2   5   2   7]\n",
      "   [  2   9   2  11]\n",
      "   [  2  13   2  15]]\n",
      "\n",
      "  [[  2  17   2  19]\n",
      "   [  2  21   2  23]\n",
      "   [  2  25   2  27]\n",
      "   [  2  29   2  31]]\n",
      "\n",
      "  [[  2  33   2  35]\n",
      "   [  2  37   2  39]\n",
      "   [  2  41   2  43]\n",
      "   [  2  45   2  47]]\n",
      "\n",
      "  [[  2  49   2  51]\n",
      "   [  2  53   2  55]\n",
      "   [  2  57   2  59]\n",
      "   [  2  61   2  63]]]\n",
      "\n",
      "\n",
      " [[[  2  65   2  67]\n",
      "   [  2  69   2  71]\n",
      "   [  2  73   2  75]\n",
      "   [  2  77   2  79]]\n",
      "\n",
      "  [[  2  81   2  83]\n",
      "   [  2  85   2  87]\n",
      "   [  2  89   2  91]\n",
      "   [  2  93   2  95]]\n",
      "\n",
      "  [[  2  97   2  99]\n",
      "   [  2 101   2 103]\n",
      "   [  2 105   2 107]\n",
      "   [  2 109   2 111]]\n",
      "\n",
      "  [[  2 113   2 115]\n",
      "   [  2 117   2 119]\n",
      "   [  2 121   2 123]\n",
      "   [  2 125   2 127]]]\n",
      "\n",
      "\n",
      " [[[  2 129   2 131]\n",
      "   [  2 133   2 135]\n",
      "   [  2 137   2 139]\n",
      "   [  2 141   2 143]]\n",
      "\n",
      "  [[  2 145   2 147]\n",
      "   [  2 149   2 151]\n",
      "   [  2 153   2 155]\n",
      "   [  2 157   2 159]]\n",
      "\n",
      "  [[  2 161   2 163]\n",
      "   [  2 165   2 167]\n",
      "   [  2 169   2 171]\n",
      "   [  2 173   2 175]]\n",
      "\n",
      "  [[  2 177   2 179]\n",
      "   [  2 181   2 183]\n",
      "   [  2 185   2 187]\n",
      "   [  2 189   2 191]]]\n",
      "\n",
      "\n",
      " [[[  2 193   2 195]\n",
      "   [  2 197   2 199]\n",
      "   [  2 201   2 203]\n",
      "   [  2 205   2 207]]\n",
      "\n",
      "  [[  2 209   2 211]\n",
      "   [  2 213   2 215]\n",
      "   [  2 217   2 219]\n",
      "   [  2 221   2 223]]\n",
      "\n",
      "  [[  2 225   2 227]\n",
      "   [  2 229   2 231]\n",
      "   [  2 233   2 235]\n",
      "   [  2 237   2 239]]\n",
      "\n",
      "  [[  2 241   2 243]\n",
      "   [  2 245   2 247]\n",
      "   [  2 249   2 251]\n",
      "   [  2 253   2 255]]]]\n"
     ]
    }
   ],
   "source": [
    "r[(r%2==0)] = 2 #Can combined with an assignment All even numbers in matrix equal 2\n",
    "print(r)"
   ]
  },
  {
   "cell_type": "markdown",
   "metadata": {},
   "source": [
    "Now all of this is possible to do with nested loops but sometimes it would require multiple loops and each rank corresponds to a loop leading to large numbers of computations\n",
    "\n",
    "The real advantage comes from theano or tensorflow"
   ]
  },
  {
   "cell_type": "markdown",
   "metadata": {},
   "source": [
    "## Theano and Tensorflow\n",
    "\n",
    "These two libraries use symbolic tensors to do initial math before. This means most of the next tensor objects we'll discuss use symbols rather than values so previous notation like \"`r[0][0][0][0] = 5`\" no longer function properly in theano and tensorflow because `r[0][0][0][0]` isn't a number"
   ]
  },
  {
   "cell_type": "markdown",
   "metadata": {},
   "source": [
    "### In practice\n",
    "\n",
    "This can be a simple way of filtering or combining results\n",
    "\n",
    "Ensure you are regularly looking at numpy pages as there are already a number of results\n",
    "\n",
    "generally keras keeps results as\n",
    "\n",
    "Dense\n",
    "(events, )\n",
    "\n",
    "1D Conv/1D images\n",
    "(events, colours, Length)\n",
    "\n",
    "2D Conv/2D images\n",
    "(events, colours, Height, Width)"
   ]
  },
  {
   "cell_type": "code",
   "execution_count": 32,
   "metadata": {
    "collapsed": false
   },
   "outputs": [
    {
     "name": "stderr",
     "output_type": "stream",
     "text": [
      "Using Theano backend.\n"
     ]
    },
    {
     "name": "stdout",
     "output_type": "stream",
     "text": [
      "3.4.5 |Anaconda custom (64-bit)| (default, Jul  5 2016, 14:53:07) [MSC v.1600 64 bit (AMD64)]\n",
      "1.0.7\n",
      "1.11.1\n",
      "0.9.0dev2.dev-dd9adf80636b1c4f285c1f0b944ff0d9ca780e9e\n"
     ]
    }
   ],
   "source": [
    "#get current versions used\n",
    "import sys\n",
    "import keras\n",
    "import numpy\n",
    "import theano\n",
    "print (sys.version)\n",
    "print(keras.__version__)\n",
    "print(numpy.__version__)\n",
    "print(theano.__version__)\n"
   ]
  },
  {
   "cell_type": "code",
   "execution_count": 33,
   "metadata": {
    "collapsed": false
   },
   "outputs": [
    {
     "name": "stdout",
     "output_type": "stream",
     "text": [
      "True\n",
      "True\n",
      "True\n",
      "True\n"
     ]
    }
   ],
   "source": [
    "#Compare version with initial version used\n",
    "print (sys.version==\"3.4.5 |Anaconda custom (64-bit)| (default, Jul  5 2016, 14:53:07) [MSC v.1600 64 bit (AMD64)]\")\n",
    "print(keras.__version__==\"1.0.7\")\n",
    "print(numpy.__version__==\"1.11.1\")\n",
    "print(theano.__version__==\"0.9.0dev2.dev-dd9adf80636b1c4f285c1f0b944ff0d9ca780e9e\")"
   ]
  },
  {
   "cell_type": "code",
   "execution_count": null,
   "metadata": {
    "collapsed": true
   },
   "outputs": [],
   "source": []
  }
 ],
 "metadata": {
  "anaconda-cloud": {},
  "kernelspec": {
   "display_name": "Python [conda root]",
   "language": "python",
   "name": "conda-root-py"
  },
  "language_info": {
   "codemirror_mode": {
    "name": "ipython",
    "version": 3
   },
   "file_extension": ".py",
   "mimetype": "text/x-python",
   "name": "python",
   "nbconvert_exporter": "python",
   "pygments_lexer": "ipython3",
   "version": "3.4.5"
  }
 },
 "nbformat": 4,
 "nbformat_minor": 0
}
