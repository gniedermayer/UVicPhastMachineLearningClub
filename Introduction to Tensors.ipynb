{
 "cells": [
  {
   "cell_type": "markdown",
   "metadata": {},
   "source": [
    "# Introduction to tensors\n",
    "\n",
    "---\n",
    "\n",
    "## From a computer science perspective\n",
    "\n",
    "This can most easy seen as a list or array of arrays. In this case the number of intertwinned tensors refers to the rank. \n",
    "\n",
    "Rank 0 is a scalar,\n",
    "Rank 1 is a vector, and\n",
    "Rank 2 is a matrix.\n",
    "\n",
    "Each rank has it's own dimensionality. Sometimes this is referred to as the shape of the tensor."
   ]
  },
  {
   "cell_type": "code",
   "execution_count": 1,
   "metadata": {
    "collapsed": false
   },
   "outputs": [
    {
     "ename": "NameError",
     "evalue": "name 'np' is not defined",
     "output_type": "error",
     "traceback": [
      "\u001b[0;31m---------------------------------------------------------------------------\u001b[0m",
      "\u001b[0;31mNameError\u001b[0m                                 Traceback (most recent call last)",
      "\u001b[0;32m<ipython-input-1-28cea26156ec>\u001b[0m in \u001b[0;36m<module>\u001b[0;34m()\u001b[0m\n\u001b[1;32m      4\u001b[0m \u001b[0mr\u001b[0m \u001b[1;33m=\u001b[0m \u001b[1;33m[\u001b[0m\u001b[0mr\u001b[0m\u001b[1;33m,\u001b[0m\u001b[0mr\u001b[0m\u001b[1;33m,\u001b[0m\u001b[0mr\u001b[0m\u001b[1;33m]\u001b[0m \u001b[1;31m# (rank 3 tensor with shape (3,3,2))\u001b[0m\u001b[1;33m\u001b[0m\u001b[0m\n\u001b[1;32m      5\u001b[0m \u001b[0mr\u001b[0m \u001b[1;33m=\u001b[0m \u001b[1;33m[\u001b[0m\u001b[0mr\u001b[0m\u001b[1;33m,\u001b[0m\u001b[0mr\u001b[0m\u001b[1;33m]\u001b[0m \u001b[1;31m# (rank 4 tensor (1,3,3,2))\u001b[0m\u001b[1;33m\u001b[0m\u001b[0m\n\u001b[0;32m----> 6\u001b[0;31m \u001b[0mr\u001b[0m \u001b[1;33m=\u001b[0m \u001b[0mnp\u001b[0m\u001b[1;33m.\u001b[0m\u001b[0marray\u001b[0m\u001b[1;33m(\u001b[0m\u001b[1;33m[\u001b[0m\u001b[0mr\u001b[0m\u001b[1;33m,\u001b[0m\u001b[0mr\u001b[0m\u001b[1;33m,\u001b[0m\u001b[0mr\u001b[0m\u001b[1;33m,\u001b[0m\u001b[0mr\u001b[0m\u001b[1;33m,\u001b[0m\u001b[0mr\u001b[0m\u001b[1;33m]\u001b[0m\u001b[1;33m)\u001b[0m\u001b[1;33m\u001b[0m\u001b[0m\n\u001b[0m\u001b[1;32m      7\u001b[0m \u001b[0mprint\u001b[0m\u001b[1;33m(\u001b[0m\u001b[0mr\u001b[0m\u001b[1;33m.\u001b[0m\u001b[0mshape\u001b[0m\u001b[1;33m)\u001b[0m \u001b[1;31m#Notice rank 4 tensors need 4 indices to refer to a location\u001b[0m\u001b[1;33m\u001b[0m\u001b[0m\n",
      "\u001b[0;31mNameError\u001b[0m: name 'np' is not defined"
     ]
    }
   ],
   "source": [
    "r = 0 #(rank zero tensor)\n",
    "r = [12,3,4,5] #(rank 1 tensor with 4 dimensions or shape (4,) the comma is intentional)\n",
    "r = [[2,1],[3,3],[1,2]] #(rank 2 tensor with shape (3,2))\n",
    "r = [r,r,r] # (rank 3 tensor with shape (3,3,2))\n",
    "r = [r,r] # (rank 4 tensor (1,3,3,2))\n",
    "r = np.array([r,r,r,r,r])\n",
    "print(r.shape) #Notice rank 4 tensors need 4 indices to refer to a location"
   ]
  },
  {
   "cell_type": "markdown",
   "metadata": {},
   "source": [
    "## From a math perspective\n",
    "\n",
    "another commonly used notation is representing a tensor by summation or matrices\n",
    "\n",
    "Let's start by quickly outlining the first 4 ranks of tensor\n",
    "\n",
    "rank 0 \n",
    "\n",
    "$x$\n",
    "\n",
    "rank 1 with shape (d)\n",
    "\n",
    "$ \\begin{bmatrix}\n",
    "    x_{1}  \\\\\n",
    "    x_{2}  \\\\\n",
    "    \\vdots    \\\\\n",
    "    x_{d}  \n",
    "\\end{bmatrix}$\n",
    "\n",
    "rank 2 with shape (dn)\n",
    "\n",
    "$ \\begin{bmatrix}\n",
    "    x_{11}       & x_{12} & x_{13} & \\dots & x_{1n} \\\\\n",
    "    x_{21}       & x_{22} & x_{23} & \\dots & x_{2n} \\\\\n",
    "    \\vdots       & \\vdots & \\vdots & \\ddots & \\vdots\\\\\n",
    "    x_{d1}       & x_{d2} & x_{d3} & \\dots & x_{dn}\n",
    "\\end{bmatrix}$\n",
    "\n",
    "\n",
    "for a contraction of indices (going from a higher rank to lower rank\n",
    "\n",
    "## Einstien notation\n",
    "\n",
    "Is basically a compact notation where \n",
    "\n",
    "$x_i \\equiv \\sum^n_{i=0} x_i$\n",
    "\n",
    "rank 0\n",
    "\n",
    "$x_{0}$\n",
    "\n",
    "rank 1: where i is from 0 to d\n",
    "\n",
    "$x_{i}$\n",
    "\n",
    "rank 2: where i is from 0 to d, where i is from 0 to n\n",
    "\n",
    "$x_{ij}$\n",
    "\n",
    "rank 3: where i is from 0 to d, where i is from 0 to n\n",
    "\n",
    "$x_{ijk}$\n",
    "\n",
    "rank 4\n",
    "\n",
    "$x_{ijkl}$\n",
    "\n",
    "We are just going to ignore covariance contravariance for simplicity"
   ]
  },
  {
   "cell_type": "code",
   "execution_count": null,
   "metadata": {
    "collapsed": true
   },
   "outputs": [],
   "source": []
  },
  {
   "cell_type": "markdown",
   "metadata": {},
   "source": [
    "## Fancy Indexing with Numpy\n",
    "\n",
    "Numpy has a number of tools to deal with tensor notation\n",
    "\n",
    "this can also be done with functions such as np.where()"
   ]
  },
  {
   "cell_type": "code",
   "execution_count": null,
   "metadata": {
    "collapsed": false
   },
   "outputs": [],
   "source": [
    "import numpy as np\n",
    "r=np.arange(4**4) # Initializes an array\n",
    "r = r.reshape((4,4,4,4)) # Reshape to rank 4 tensor with shape(4,4,4,4)\n",
    "\n",
    "#Very useful trait of numpy arrays\n",
    "print(r.shape)\n",
    "\n",
    "#Let's try some things out\n",
    "print(r[0][1][2][3])\n",
    "print(r[0,1,2,3])"
   ]
  },
  {
   "cell_type": "code",
   "execution_count": null,
   "metadata": {
    "collapsed": false
   },
   "outputs": [],
   "source": [
    "# Some fancier things\n",
    "print(\"Row\")\n",
    "print(r[1]) #Row\n",
    "print(\"Column\")\n",
    "print(r[:,1]) #Column"
   ]
  },
  {
   "cell_type": "code",
   "execution_count": null,
   "metadata": {
    "collapsed": false
   },
   "outputs": [],
   "source": [
    "r[:,0]==3 #Can be combined with boolean to give a truth array"
   ]
  },
  {
   "cell_type": "code",
   "execution_count": null,
   "metadata": {
    "collapsed": false
   },
   "outputs": [],
   "source": [
    "r[1][r[:,0]==3] #Truth array can be fed back into array to find position"
   ]
  },
  {
   "cell_type": "code",
   "execution_count": null,
   "metadata": {
    "collapsed": false
   },
   "outputs": [],
   "source": [
    "r[(r%2==0)&(r>10)] # Operators can be combined with python bitwise operators"
   ]
  },
  {
   "cell_type": "code",
   "execution_count": null,
   "metadata": {
    "collapsed": false
   },
   "outputs": [],
   "source": [
    "r[(r%2==0)] = 2 #Can combined with an assignment All even numbers in matrix equal 2\n",
    "print(r)"
   ]
  },
  {
   "cell_type": "markdown",
   "metadata": {},
   "source": [
    "Now all of this is possible to do with nested loops but sometimes it would require multiple loops and each rank corresponds to a loop leading to large numbers of computations\n",
    "\n",
    "The real advantage comes from theano or tensorflow"
   ]
  },
  {
   "cell_type": "markdown",
   "metadata": {},
   "source": [
    "## Theano and Tensorflow\n",
    "\n",
    "These two libraries use symbolic tensors to do initial math before. This means most of the next tensor objects we'll discuss use symbols rather than values so previous notation like \"`r[0][0][0][0] = 5`\" no longer function properly in theano and tensorflow because `r[0][0][0][0]` isn't a number"
   ]
  },
  {
   "cell_type": "markdown",
   "metadata": {},
   "source": [
    "### In practice\n",
    "\n",
    "This can be a simple way of filtering or combining results\n",
    "\n",
    "Ensure you are regularly looking at numpy pages as there are already a number of results\n",
    "\n",
    "generally keras keeps results as\n",
    "\n",
    "Dense\n",
    "(events, )\n",
    "\n",
    "1D Conv/1D images\n",
    "(events, colours, Length)\n",
    "\n",
    "2D Conv/2D images\n",
    "(events, colours, Height, Width)\n",
    "\n",
    "### Images as tensors\n",
    "\n"
   ]
  },
  {
   "cell_type": "code",
   "execution_count": null,
   "metadata": {
    "collapsed": true
   },
   "outputs": [],
   "source": [
    "import numpy as np\n",
    "import matplotlib as plt\n",
    "\n",
    "np="
   ]
  },
  {
   "cell_type": "code",
   "execution_count": null,
   "metadata": {
    "collapsed": true
   },
   "outputs": [],
   "source": []
  },
  {
   "cell_type": "code",
   "execution_count": null,
   "metadata": {
    "collapsed": false
   },
   "outputs": [],
   "source": [
    "#get current versions used\n",
    "import sys\n",
    "import keras\n",
    "import numpy\n",
    "import theano\n",
    "print (sys.version)\n",
    "print(keras.__version__)\n",
    "print(numpy.__version__)\n",
    "print(theano.__version__)\n"
   ]
  },
  {
   "cell_type": "code",
   "execution_count": null,
   "metadata": {
    "collapsed": false
   },
   "outputs": [],
   "source": [
    "#Compare version with initial version used\n",
    "print (sys.version==\"3.4.5 |Anaconda custom (64-bit)| (default, Jul  5 2016, 14:53:07) [MSC v.1600 64 bit (AMD64)]\")\n",
    "print(keras.__version__==\"1.0.7\")\n",
    "print(numpy.__version__==\"1.11.1\")\n",
    "print(theano.__version__==\"0.9.0dev2.dev-dd9adf80636b1c4f285c1f0b944ff0d9ca780e9e\")"
   ]
  },
  {
   "cell_type": "code",
   "execution_count": null,
   "metadata": {
    "collapsed": true
   },
   "outputs": [],
   "source": []
  }
 ],
 "metadata": {
  "anaconda-cloud": {},
  "kernelspec": {
   "display_name": "Python [conda root]",
   "language": "python",
   "name": "conda-root-py"
  },
  "language_info": {
   "codemirror_mode": {
    "name": "ipython",
    "version": 3
   },
   "file_extension": ".py",
   "mimetype": "text/x-python",
   "name": "python",
   "nbconvert_exporter": "python",
   "pygments_lexer": "ipython3",
   "version": "3.4.5"
  }
 },
 "nbformat": 4,
 "nbformat_minor": 0
}
