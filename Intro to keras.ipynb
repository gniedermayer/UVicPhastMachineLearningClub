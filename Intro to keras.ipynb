{
 "cells": [
  {
   "cell_type": "raw",
   "metadata": {
    "nbpresent": {
     "id": "d97f2ba2-1d5b-4ab8-8493-34b7902735f5"
    }
   },
   "source": [
    "# Intro to Keras\n",
    "---\n",
    "## Intro\n",
    "this book introduces the library keras which allows higher level concepts to be built from theano or tensorflow. This should be seen as the higher level more applied machine learning notebook. Understand from the top down will be focused on."
   ]
  },
  {
   "cell_type": "code",
   "execution_count": 2,
   "metadata": {
    "collapsed": false,
    "nbpresent": {
     "id": "980da49a-bdd2-4d8d-b931-bb64925a4bb1"
    }
   },
   "outputs": [
    {
     "name": "stderr",
     "output_type": "stream",
     "text": [
      "Using Theano backend.\n"
     ]
    }
   ],
   "source": [
    "import keras"
   ]
  },
  {
   "cell_type": "markdown",
   "metadata": {
    "nbpresent": {
     "id": "c195f850-6627-48c1-b64e-26dc676713dc"
    }
   },
   "source": [
    "## One Neuron, Single Example\n",
    "\n",
    "Purely for comparison we are going to reimplement the single neuron, single input in keras"
   ]
  },
  {
   "cell_type": "code",
   "execution_count": null,
   "metadata": {
    "collapsed": false,
    "nbpresent": {
     "id": "b05383dd-d081-491e-818a-b0564478b709"
    }
   },
   "outputs": [],
   "source": [
    "import numpy\n",
    "def simpleModel():\n",
    "    import keras #Ugly simple imports\n",
    "    model = keras.models.Sequential()\n",
    "    model.add(keras.layers.Dense(1,\n",
    "                input_shape=(3,))) #Single layer, single neuron\n",
    "    model.add(keras.layers.Activation('relu')) # Linear\n",
    "    \n",
    "    \n",
    "    from keras.optimizers import SGD #nicer imports\n",
    "    sgd = SGD(lr=0.001, decay=.1, momentum=0, nesterov=False)\n",
    "    #Some things to try\n",
    "    # objective 'mean_absolute_error'\n",
    "    # optimizers /'adam'/'nadam'/'adadelta'/'adagrad'\n",
    "    model.compile(loss='mean_squared_error', optimizer=sgd) \n",
    "    \n",
    "    return model"
   ]
  },
  {
   "cell_type": "code",
   "execution_count": null,
   "metadata": {
    "collapsed": false
   },
   "outputs": [
    {
     "name": "stderr",
     "output_type": "stream",
     "text": [
      "Using Theano backend.\n"
     ]
    }
   ],
   "source": [
    "import numpy as np\n",
    "#Initializing Model\n",
    "#Stocastic Gradient Descent #code is clear if you import like this\n",
    "model1 = simpleModel()\n",
    "model1.set_weights(np.array([np.array([[50.],[50.],[50.]]),np.array([0.])]))#Weights are already initialized\n",
    "\n",
    "\n",
    "#Fitting Model\n",
    "import numpy as np\n",
    "inputs =np.array([[2,5,3]])\n",
    "target = np.array([[850]])\n",
    "output = []\n",
    "weights = []\n",
    "for i in range(100):\n",
    "    weights.append(model1.get_weights()[0])\n",
    "    model1.fit(inputs,target,batch_size=1, nb_epoch=1,verbose=0.)\n",
    "    output.append(model1.predict(inputs)[0][0])\n",
    "    \n",
    "\n",
    "#Plotting Model\n",
    "import matplotlib.pyplot as plt\n",
    "w = np.concatenate(np.array(weights),axis=-1)\n",
    "plt.plot(w[0],'ob', label = '$w_0$')\n",
    "plt.plot(w[1],'sr', label = '$w_1$')\n",
    "plt.plot(w[2],'vg', label = '$w_2$')\n",
    "plt.legend(bbox_to_anchor=(1.0, 1), loc=0, borderaxespad=0.)\n",
    "plt.title(' Keras weights changes')\n",
    "plt.show()"
   ]
  },
  {
   "cell_type": "markdown",
   "metadata": {
    "nbpresent": {
     "id": "67c7fc7b-bedc-487b-a775-0efb07ab260a"
    }
   },
   "source": [
    "Converges more quickily??? -> unexpected\n",
    "\n",
    "appears to be taking three steps?\n",
    "\n",
    "Keras is converging too quickily cheater...\n",
    "\n",
    "## Cooler Things\n",
    "\n",
    "Almost right away we can do more interesting things"
   ]
  },
  {
   "cell_type": "code",
   "execution_count": null,
   "metadata": {
    "collapsed": false,
    "nbpresent": {
     "id": "faa85023-3e8c-42c2-8386-7a2ac1cf8dcb"
    }
   },
   "outputs": [],
   "source": [
    "from scipy.signal import gaussian\n",
    "\n",
    "plt.plot(gaussian(100,10))\n",
    "plt.show()\n",
    "sig = 10*np.random.rand(10000)\n",
    "gaus = np.array([gaussian(100,i) for i in sig])\n",
    "gaus.shape"
   ]
  },
  {
   "cell_type": "code",
   "execution_count": null,
   "metadata": {
    "collapsed": false,
    "nbpresent": {
     "id": "35754dbb-b940-4752-97f4-d6e93b36b87f"
    }
   },
   "outputs": [],
   "source": [
    "import numpy\n",
    "def gaussModel():\n",
    "    import keras #Ugly simple imports\n",
    "    model = keras.models.Sequential()\n",
    "    model.add(keras.layers.Dense(1,\n",
    "                input_shape=(100,))) #Single layer, single neuron\n",
    "    #model.add(keras.layers.Activation('relu')) # Linear\n",
    "    #model.add(keras.layers.Dense(30))\n",
    "    #model.add(keras.layers.Activation('relu')) \n",
    "    #model.add(keras.layers.Dense(1))\n",
    "    #model.add(keras.layers.Activation('relu')) \n",
    "    \n",
    "    \n",
    "    from keras.optimizers import SGD #nicer imports\n",
    "    sgd = SGD(lr=0.01, decay=.0000, momentum=0.95, nesterov=True)\n",
    "    #Some things to try\n",
    "    # objective 'mean_absolute_error'\n",
    "    # optimizers /'adam'/'nadam'/'adadelta'/'adagrad'\n",
    "    model.compile(loss='mean_squared_error', optimizer='nadam') \n",
    "    \n",
    "    return model\n",
    "\n",
    "model1 = gaussModel()\n",
    "\n",
    "#Fitting Model\n",
    "import numpy as np\n",
    "inputs = gaus\n",
    "target = sig\n",
    "output = []\n",
    "weights = []\n",
    "for i in range(5):\n",
    "    weights.append(model1.get_weights()[0])\n",
    "    model1.fit(inputs,target,batch_size=1, nb_epoch=1)"
   ]
  },
  {
   "cell_type": "markdown",
   "metadata": {
    "nbpresent": {
     "id": "d2035c56-379a-4651-91d2-c2386e7e5aea"
    }
   },
   "source": [
    "This can be converted into a resolution curve."
   ]
  },
  {
   "cell_type": "code",
   "execution_count": null,
   "metadata": {
    "collapsed": false,
    "nbpresent": {
     "id": "35abf537-dd6a-4304-b307-0678126ceef2"
    }
   },
   "outputs": [],
   "source": [
    "output = model1.predict(gaus)\n",
    "plt.hist(np.concatenate(output)-sig,bins=10)\n",
    "plt.title('Resolutions Curve')\n",
    "plt.ylabel('Count') #Should integrate to 10000 points\n",
    "plt.xlabel('Difference between target and output')\n",
    "plt.show()"
   ]
  },
  {
   "cell_type": "markdown",
   "metadata": {
    "nbpresent": {
     "id": "03f745db-a627-4fe9-ba28-44a92dbe9714"
    }
   },
   "source": [
    "One thing to expect is this result could be bias or over fitted let's try new results"
   ]
  },
  {
   "cell_type": "code",
   "execution_count": 130,
   "metadata": {
    "collapsed": false,
    "nbpresent": {
     "id": "dd065718-c3cc-482b-8acf-5d086f5e799d"
    }
   },
   "outputs": [
    {
     "data": {
      "image/png": "[encoded data removed]",
      "text/plain": [
       "<matplotlib.figure.Figure at 0x8cc5748>"
      ]
     },
     "metadata": {},
     "output_type": "display_data"
    },
    {
     "data": {
      "image/png": "[encoded data removed]",
      "text/plain": [
       "<matplotlib.figure.Figure at 0x8002710>"
      ]
     },
     "metadata": {},
     "output_type": "display_data"
    }
   ],
   "source": [
    "plt.hist(np.concatenate(output))\n",
    "plt.show()\n",
    "plt.hist(sig)\n",
    "plt.show()"
   ]
  },
  {
   "cell_type": "code",
   "execution_count": 132,
   "metadata": {
    "collapsed": false,
    "nbpresent": {
     "id": "5c773fda-0e5b-45ed-b1e2-53b19b37769b"
    }
   },
   "outputs": [
    {
     "name": "stdout",
     "output_type": "stream",
     "text": [
      "____________________________________________________________________________________________________\n",
      "Layer (type)                     Output Shape          Param #     Connected to                     \n",
      "====================================================================================================\n",
      "dense_101 (Dense)                (None, 1)             101         dense_input_40[0][0]             \n",
      "====================================================================================================\n",
      "Total params: 101\n",
      "____________________________________________________________________________________________________\n"
     ]
    }
   ],
   "source": [
    "model1.summary()\n",
    "m = model1.to_json()"
   ]
  },
  {
   "cell_type": "code",
   "execution_count": 12,
   "metadata": {
    "collapsed": false,
    "nbpresent": {
     "id": "3f34fe34-5f36-4f21-a2ee-1db3e7b30c17"
    }
   },
   "outputs": [
    {
     "data": {
      "text/plain": [
       "str"
      ]
     },
     "execution_count": 12,
     "metadata": {},
     "output_type": "execute_result"
    }
   ],
   "source": [
    "type(m)"
   ]
  },
  {
   "cell_type": "markdown",
   "metadata": {
    "collapsed": true,
    "nbpresent": {
     "id": "eb99bec5-f129-437b-817a-39b07903e537"
    }
   },
   "source": [
    "# Teaching a neural network to do a Coordinate Transform"
   ]
  },
  {
   "cell_type": "code",
   "execution_count": 20,
   "metadata": {
    "collapsed": false,
    "nbpresent": {
     "id": "51e84b37-990e-4bba-9952-01af51dfa262"
    }
   },
   "outputs": [],
   "source": [
    "import numpy as np\n",
    "x = np.random.rand(10000,3)\n",
    "#Transforming this set of vectors into spherical coordinates\n",
    "\n",
    "#Note : x = x[:,0]; y = x[:,1]; z = x[:,2]\n",
    "#Is this non-obvious?\n",
    "rad,theta,phi = np.array([np.sqrt(np.sum(np.square(x),axis=-1)),np.arctan(np.sqrt(np.square(x[:,1])+np.square(x[:,0]))/x[:,2]),np.arctan(x[:,1]/x[:,0])])\n",
    "\n",
    "#So many ways to write things!\n",
    "out = np.array([[rad[i],theta[i],phi[i]]for i in range(rad.size)])\n"
   ]
  },
  {
   "cell_type": "code",
   "execution_count": 22,
   "metadata": {
    "collapsed": false,
    "nbpresent": {
     "id": "26e4d8f4-e16f-41b2-aa02-e39a9c87d136"
    }
   },
   "outputs": [
    {
     "data": {
      "text/plain": [
       "(10000, 3)"
      ]
     },
     "execution_count": 22,
     "metadata": {},
     "output_type": "execute_result"
    }
   ],
   "source": [
    "print(out.shape)\n",
    "print(x.shape)"
   ]
  },
  {
   "cell_type": "code",
   "execution_count": 139,
   "metadata": {
    "collapsed": false,
    "nbpresent": {
     "id": "9de1df88-2ad9-4b66-9762-e5c740649aa0"
    }
   },
   "outputs": [
    {
     "name": "stdout",
     "output_type": "stream",
     "text": [
      "____________________________________________________________________________________________________\n",
      "Layer (type)                     Output Shape          Param #     Connected to                     \n",
      "====================================================================================================\n",
      "dense_130 (Dense)                (None, 3)             12          dense_input_47[0][0]             \n",
      "____________________________________________________________________________________________________\n",
      "activation_126 (Activation)      (None, 3)             0           dense_130[0][0]                  \n",
      "____________________________________________________________________________________________________\n",
      "dense_131 (Dense)                (None, 10)            40          activation_126[0][0]             \n",
      "____________________________________________________________________________________________________\n",
      "activation_127 (Activation)      (None, 10)            0           dense_131[0][0]                  \n",
      "____________________________________________________________________________________________________\n",
      "dense_132 (Dense)                (None, 30)            330         activation_127[0][0]             \n",
      "____________________________________________________________________________________________________\n",
      "activation_128 (Activation)      (None, 30)            0           dense_132[0][0]                  \n",
      "____________________________________________________________________________________________________\n",
      "dense_133 (Dense)                (None, 10)            310         activation_128[0][0]             \n",
      "____________________________________________________________________________________________________\n",
      "activation_129 (Activation)      (None, 10)            0           dense_133[0][0]                  \n",
      "____________________________________________________________________________________________________\n",
      "dense_134 (Dense)                (None, 30)            330         activation_129[0][0]             \n",
      "____________________________________________________________________________________________________\n",
      "activation_130 (Activation)      (None, 30)            0           dense_134[0][0]                  \n",
      "____________________________________________________________________________________________________\n",
      "dense_135 (Dense)                (None, 10)            310         activation_130[0][0]             \n",
      "____________________________________________________________________________________________________\n",
      "activation_131 (Activation)      (None, 10)            0           dense_135[0][0]                  \n",
      "____________________________________________________________________________________________________\n",
      "dense_136 (Dense)                (None, 30)            330         activation_131[0][0]             \n",
      "____________________________________________________________________________________________________\n",
      "activation_132 (Activation)      (None, 30)            0           dense_136[0][0]                  \n",
      "____________________________________________________________________________________________________\n",
      "dense_137 (Dense)                (None, 10)            310         activation_132[0][0]             \n",
      "____________________________________________________________________________________________________\n",
      "activation_133 (Activation)      (None, 10)            0           dense_137[0][0]                  \n",
      "____________________________________________________________________________________________________\n",
      "dense_138 (Dense)                (None, 30)            330         activation_133[0][0]             \n",
      "____________________________________________________________________________________________________\n",
      "dense_139 (Dense)                (None, 10)            310         dense_138[0][0]                  \n",
      "____________________________________________________________________________________________________\n",
      "activation_134 (Activation)      (None, 10)            0           dense_139[0][0]                  \n",
      "____________________________________________________________________________________________________\n",
      "dense_140 (Dense)                (None, 30)            330         activation_134[0][0]             \n",
      "____________________________________________________________________________________________________\n",
      "activation_135 (Activation)      (None, 30)            0           dense_140[0][0]                  \n",
      "____________________________________________________________________________________________________\n",
      "dense_141 (Dense)                (None, 10)            310         activation_135[0][0]             \n",
      "____________________________________________________________________________________________________\n",
      "activation_136 (Activation)      (None, 10)            0           dense_141[0][0]                  \n",
      "____________________________________________________________________________________________________\n",
      "dense_142 (Dense)                (None, 30)            330         activation_136[0][0]             \n",
      "____________________________________________________________________________________________________\n",
      "activation_137 (Activation)      (None, 30)            0           dense_142[0][0]                  \n",
      "____________________________________________________________________________________________________\n",
      "dense_143 (Dense)                (None, 3)             93          activation_137[0][0]             \n",
      "____________________________________________________________________________________________________\n",
      "activation_138 (Activation)      (None, 3)             0           dense_143[0][0]                  \n",
      "====================================================================================================\n",
      "Total params: 3675\n",
      "____________________________________________________________________________________________________\n",
      "None\n",
      "Train on 9500 samples, validate on 500 samples\n",
      "Epoch 1/20\n",
      "9500/9500 [==============================] - 0s - loss: 0.1820 - val_loss: 0.1126\n",
      "Epoch 2/20\n",
      "9500/9500 [==============================] - 0s - loss: 0.1188 - val_loss: 0.1124\n",
      "Epoch 3/20\n",
      "9500/9500 [==============================] - 0s - loss: 0.1178 - val_loss: 0.1104\n",
      "Epoch 4/20\n",
      "9500/9500 [==============================] - 0s - loss: 0.1097 - val_loss: 0.0856\n",
      "Epoch 5/20\n",
      "9500/9500 [==============================] - 0s - loss: 0.0782 - val_loss: 0.0702\n",
      "Epoch 6/20\n",
      "9500/9500 [==============================] - 0s - loss: 0.0705 - val_loss: 0.0672\n",
      "Epoch 7/20\n",
      "9500/9500 [==============================] - 0s - loss: 0.0677 - val_loss: 0.0651\n",
      "Epoch 8/20\n",
      "9500/9500 [==============================] - 0s - loss: 0.0662 - val_loss: 0.0643\n",
      "Epoch 9/20\n",
      "9500/9500 [==============================] - 0s - loss: 0.0653 - val_loss: 0.0637\n",
      "Epoch 10/20\n",
      "9500/9500 [==============================] - 0s - loss: 0.0648 - val_loss: 0.0634\n",
      "Epoch 11/20\n",
      "9500/9500 [==============================] - 0s - loss: 0.0643 - val_loss: 0.0633\n",
      "Epoch 12/20\n",
      "9500/9500 [==============================] - 0s - loss: 0.0640 - val_loss: 0.0629\n",
      "Epoch 13/20\n",
      "9500/9500 [==============================] - 0s - loss: 0.0637 - val_loss: 0.0626\n",
      "Epoch 14/20\n",
      "9500/9500 [==============================] - 0s - loss: 0.0636 - val_loss: 0.0624\n",
      "Epoch 15/20\n",
      "9500/9500 [==============================] - 0s - loss: 0.0631 - val_loss: 0.0622\n",
      "Epoch 16/20\n",
      "9500/9500 [==============================] - 0s - loss: 0.0627 - val_loss: 0.0618\n",
      "Epoch 17/20\n",
      "9500/9500 [==============================] - 0s - loss: 0.0619 - val_loss: 0.0608\n",
      "Epoch 18/20\n",
      "9500/9500 [==============================] - 0s - loss: 0.0597 - val_loss: 0.0557\n",
      "Epoch 19/20\n",
      "9500/9500 [==============================] - 0s - loss: 0.0431 - val_loss: 0.0336\n",
      "Epoch 20/20\n",
      "9500/9500 [==============================] - 0s - loss: 0.0320 - val_loss: 0.0313\n"
     ]
    },
    {
     "data": {
      "image/png": "[encoded data removed]",
      "text/plain": [
       "<matplotlib.figure.Figure at 0xb8f7908>"
      ]
     },
     "metadata": {},
     "output_type": "display_data"
    },
    {
     "data": {
      "image/png": "[encoded data removed]",
      "text/plain": [
       "<matplotlib.figure.Figure at 0xda7a240>"
      ]
     },
     "metadata": {},
     "output_type": "display_data"
    },
    {
     "data": {
      "image/png": "[encoded data removed]",
      "text/plain": [
       "<matplotlib.figure.Figure at 0xdb2a438>"
      ]
     },
     "metadata": {},
     "output_type": "display_data"
    }
   ],
   "source": [
    "def coordModel():\n",
    "    from keras.models import Sequential #Ugly simple imports\n",
    "    from keras.layers import Dense, Activation\n",
    "    model = Sequential()\n",
    "    model.add(Dense(3,\n",
    "                input_shape=(3,))) #Single layer, single neuron\n",
    "    model.add(Activation('relu')) # Linear\n",
    "    model.add(Dense(10))\n",
    "    model.add(Activation('relu')) \n",
    "    model.add(Dense(30))\n",
    "    model.add(Activation('relu')) \n",
    "    model.add(Dense(10))\n",
    "    model.add(Activation('relu')) \n",
    "    model.add(Dense(30))\n",
    "    model.add(Activation('relu'))\n",
    "    model.add(Dense(10))\n",
    "    model.add(Activation('relu')) \n",
    "    model.add(Dense(30))\n",
    "    model.add(Activation('relu')) \n",
    "    model.add(Dense(10))\n",
    "    model.add(Activation('relu')) \n",
    "    model.add(Dense(30))\n",
    "    model.add(Dense(10))\n",
    "    model.add(Activation('relu')) \n",
    "    model.add(Dense(30))\n",
    "    model.add(Activation('relu')) \n",
    "    model.add(Dense(10))\n",
    "    model.add(Activation('relu')) \n",
    "    model.add(Dense(30))\n",
    "    model.add(Activation('relu')) \n",
    "    model.add(Dense(3))\n",
    "    model.add(Activation('linear')) \n",
    "    print(model.summary())\n",
    "    \n",
    "    from keras.optimizers import SGD #nicer imports\n",
    "    sgd = SGD(lr=0.01, decay=.0000, momentum=0.95, nesterov=True)\n",
    "    #Some things to try\n",
    "    # objective 'mean_absolute_error'\n",
    "    # optimizers /'adam'/'nadam'/'adadelta'/'adagrad'\n",
    "    model.compile(loss='mean_squared_error', optimizer=sgd) \n",
    "    \n",
    "    return model\n",
    "\n",
    "model1 = coordModel()\n",
    "\n",
    "#Fitting Model\n",
    "import numpy as np\n",
    "inputs = x\n",
    "target = out\n",
    "output = []\n",
    "weights = []\n",
    "for i in range(1):\n",
    "    weights.append(model1.get_weights()[0])\n",
    "    hist = model1.fit(inputs,target,batch_size=100, nb_epoch=20,validation_split=0.05)\n",
    "    \n",
    "    import matplotlib.pyplot as plt\n",
    "    prediction = model1.predict(x)\n",
    "    plt.hist((prediction-target)[:,2],bins=100,range=(-.1,.1))\n",
    "    plt.title('Resolutions Curves phi')\n",
    "    plt.ylabel('Count') #Should integrate to 10000 points\n",
    "    plt.xlabel('Difference between target and output')\n",
    "    plt.show()\n",
    "\n",
    "    plt.hist((prediction-target)[:,1],bins=100,range=(-.1,.1))\n",
    "    plt.title('Resolutions Curves theta')\n",
    "    plt.ylabel('Count') #Should integrate to 10000 points\n",
    "    plt.xlabel('Difference between target and output')\n",
    "    plt.show()\n",
    "    plt.hist((prediction-target)[:,0],bins=100,range=(-.1,.1))\n",
    "    plt.title('Resolutions Curves radius')\n",
    "    plt.ylabel('Count') #Should integrate to 10000 points\n",
    "    plt.xlabel('Difference between target and output')\n",
    "    plt.show()\n",
    "    \n",
    "    #weights = []"
   ]
  },
  {
   "cell_type": "code",
   "execution_count": 41,
   "metadata": {
    "collapsed": false,
    "nbpresent": {
     "id": "bb9b44ba-6abe-4fdc-90da-a319fe7e9e54"
    }
   },
   "outputs": [
    {
     "data": {
      "text/plain": [
       "array([[ 0.17201963,  0.97428972,  0.78417689]], dtype=float32)"
      ]
     },
     "execution_count": 41,
     "metadata": {},
     "output_type": "execute_result"
    }
   ],
   "source": [
    "model1.predict(np.array([[0.1,0.1,0.1]]))"
   ]
  },
  {
   "cell_type": "code",
   "execution_count": 86,
   "metadata": {
    "collapsed": false,
    "nbpresent": {
     "id": "f9e23ba7-c476-4de2-8bec-ec17bf8cd36e"
    }
   },
   "outputs": [
    {
     "data": {
      "text/plain": [
       "{'loss': [0.12110103396208663,\n",
       "  0.012059228259481882,\n",
       "  0.008224037975857133,\n",
       "  0.0056352282408624887,\n",
       "  0.0048619124891334459,\n",
       "  0.0030116387422343617,\n",
       "  0.0029773052463209944,\n",
       "  0.0022043878702740919,\n",
       "  0.0018509927879724847,\n",
       "  0.0021520414990127872,\n",
       "  0.0016759447281641004,\n",
       "  0.0015312738878971064,\n",
       "  0.0015029813297779153,\n",
       "  0.0012507321772557733,\n",
       "  0.0014333999449215634,\n",
       "  0.0011647260315887826,\n",
       "  0.0013700275406192399,\n",
       "  0.0012027835326367303,\n",
       "  0.0010496512570075298,\n",
       "  0.0010308689097751325],\n",
       " 'val_loss': [0.015764525346457958,\n",
       "  0.0078887948766350746,\n",
       "  0.0051073852926492693,\n",
       "  0.0034371923655271532,\n",
       "  0.004452080000191927,\n",
       "  0.0015859205974265932,\n",
       "  0.0011887309025041758,\n",
       "  0.0022720558103173972,\n",
       "  0.00080165417166426782,\n",
       "  0.00084382261848077174,\n",
       "  0.00066874558106064794,\n",
       "  0.00085648505482822652,\n",
       "  0.0017099549761041999,\n",
       "  0.0009634232032112777,\n",
       "  0.00080527918180450797,\n",
       "  0.002470969036221504,\n",
       "  0.00058529118541628122,\n",
       "  0.0015390398213639856,\n",
       "  0.00051485645235516131,\n",
       "  0.0012002002680674196]}"
      ]
     },
     "execution_count": 86,
     "metadata": {},
     "output_type": "execute_result"
    }
   ],
   "source": [
    "plt.plot(np.array(hist.history['loss']))\n",
    "hist.history\n",
    "#plt.show()"
   ]
  },
  {
   "cell_type": "code",
   "execution_count": null,
   "metadata": {
    "collapsed": true
   },
   "outputs": [],
   "source": []
  }
 ],
 "metadata": {
  "anaconda-cloud": {},
  "kernelspec": {
   "display_name": "Python [conda root]",
   "language": "python",
   "name": "conda-root-py"
  },
  "language_info": {
   "codemirror_mode": {
    "name": "ipython",
    "version": 3
   },
   "file_extension": ".py",
   "mimetype": "text/x-python",
   "name": "python",
   "nbconvert_exporter": "python",
   "pygments_lexer": "ipython3",
   "version": "3.4.5"
  },
  "nbpresent": {
   "slides": {
    "0c417e16-ffd5-469a-8e14-9e8a2494395c": {
     "id": "0c417e16-ffd5-469a-8e14-9e8a2494395c",
     "prev": "2dce57d0-0faf-4f1c-94a0-cc3c2bd5a374",
     "regions": {
      "99eba88c-3107-4793-9a9e-1c2d687c14b0": {
       "attrs": {
        "height": 0.8,
        "width": 0.8,
        "x": 0.1,
        "y": 0.1
       },
       "content": {
        "cell": "d2035c56-379a-4651-91d2-c2386e7e5aea",
        "part": "whole"
       },
       "id": "99eba88c-3107-4793-9a9e-1c2d687c14b0"
      }
     }
    },
    "0ec6fbb3-8a0b-4e63-bba2-31d4254ea59e": {
     "id": "0ec6fbb3-8a0b-4e63-bba2-31d4254ea59e",
     "prev": "323303d6-0eb2-4f38-a5be-4f0732fa7b25",
     "regions": {
      "fdcbf614-dddf-48da-a8a7-408a95a28091": {
       "attrs": {
        "height": 0.8,
        "width": 0.8,
        "x": 0.1,
        "y": 0.1
       },
       "content": {
        "cell": "51e84b37-990e-4bba-9952-01af51dfa262",
        "part": "whole"
       },
       "id": "fdcbf614-dddf-48da-a8a7-408a95a28091"
      }
     }
    },
    "194faf5b-3e37-4ed4-b8a3-246544088540": {
     "id": "194faf5b-3e37-4ed4-b8a3-246544088540",
     "prev": "dcd71fe5-81ed-4ac2-baa4-b1b923a67250",
     "regions": {
      "3ec7365f-24c6-41c0-8205-80a5f4922698": {
       "attrs": {
        "height": 0.8,
        "width": 0.8,
        "x": 0.1,
        "y": 0.1
       },
       "content": {
        "cell": "5c773fda-0e5b-45ed-b1e2-53b19b37769b",
        "part": "whole"
       },
       "id": "3ec7365f-24c6-41c0-8205-80a5f4922698"
      }
     }
    },
    "2b02a656-983d-49e3-8ac1-fafd51c7a982": {
     "id": "2b02a656-983d-49e3-8ac1-fafd51c7a982",
     "prev": "dcad2eac-033a-4fdd-a8d7-c46abf66f087",
     "regions": {
      "780bd320-81eb-49ef-a608-c68fcd53d399": {
       "attrs": {
        "height": 0.8,
        "width": 0.8,
        "x": 0.1,
        "y": 0.1
       },
       "content": {
        "cell": "67c7fc7b-bedc-487b-a775-0efb07ab260a",
        "part": "whole"
       },
       "id": "780bd320-81eb-49ef-a608-c68fcd53d399"
      }
     }
    },
    "2dce57d0-0faf-4f1c-94a0-cc3c2bd5a374": {
     "id": "2dce57d0-0faf-4f1c-94a0-cc3c2bd5a374",
     "prev": "d19b3cf6-cc67-4eae-a3d2-f69127953356",
     "regions": {
      "13d380a5-f477-4abb-b875-5164df24871e": {
       "attrs": {
        "height": 0.8,
        "width": 0.8,
        "x": 0.1,
        "y": 0.1
       },
       "content": {
        "cell": "35754dbb-b940-4752-97f4-d6e93b36b87f",
        "part": "whole"
       },
       "id": "13d380a5-f477-4abb-b875-5164df24871e"
      }
     }
    },
    "323303d6-0eb2-4f38-a5be-4f0732fa7b25": {
     "id": "323303d6-0eb2-4f38-a5be-4f0732fa7b25",
     "prev": "995c5bee-a5b7-4225-ab99-24ad85cd0f05",
     "regions": {
      "dfa0d482-de53-4e08-aa42-d5c07e92ed61": {
       "attrs": {
        "height": 0.8,
        "width": 0.8,
        "x": 0.1,
        "y": 0.1
       },
       "content": {
        "cell": "eb99bec5-f129-437b-817a-39b07903e537",
        "part": "whole"
       },
       "id": "dfa0d482-de53-4e08-aa42-d5c07e92ed61"
      }
     }
    },
    "54260b16-95f4-49c2-a481-2d05ad95a00a": {
     "id": "54260b16-95f4-49c2-a481-2d05ad95a00a",
     "prev": "a9882ae7-be08-4cf1-8bfb-64b56f12dd85",
     "regions": {
      "bb923971-0d3d-4102-afae-ddc31d84c3eb": {
       "attrs": {
        "height": 0.8,
        "width": 0.8,
        "x": 0.1,
        "y": 0.1
       },
       "content": {
        "cell": "bb9b44ba-6abe-4fdc-90da-a319fe7e9e54",
        "part": "whole"
       },
       "id": "bb923971-0d3d-4102-afae-ddc31d84c3eb"
      }
     }
    },
    "5cf24084-b366-4fa8-9663-0c2081dbc4fa": {
     "id": "5cf24084-b366-4fa8-9663-0c2081dbc4fa",
     "prev": null,
     "regions": {
      "ac3ed0a4-953e-4724-8ce8-65652e578eda": {
       "attrs": {
        "height": 0.8,
        "width": 0.8,
        "x": 0.1,
        "y": 0.1
       },
       "content": {
        "cell": "d97f2ba2-1d5b-4ab8-8493-34b7902735f5",
        "part": "whole"
       },
       "id": "ac3ed0a4-953e-4724-8ce8-65652e578eda"
      }
     }
    },
    "607038d5-e050-4d17-8ed8-d0894f67e4d6": {
     "id": "607038d5-e050-4d17-8ed8-d0894f67e4d6",
     "prev": "0c417e16-ffd5-469a-8e14-9e8a2494395c",
     "regions": {
      "af095cf0-0bdd-4b57-9c8e-a3e8ca9eb5ff": {
       "attrs": {
        "height": 0.8,
        "width": 0.8,
        "x": 0.1,
        "y": 0.1
       },
       "content": {
        "cell": "35abf537-dd6a-4304-b307-0678126ceef2",
        "part": "whole"
       },
       "id": "af095cf0-0bdd-4b57-9c8e-a3e8ca9eb5ff"
      }
     }
    },
    "6a8595c6-8042-4d76-9823-f577ba261f43": {
     "id": "6a8595c6-8042-4d76-9823-f577ba261f43",
     "prev": "0ec6fbb3-8a0b-4e63-bba2-31d4254ea59e",
     "regions": {
      "e4bafa08-bc36-467a-9833-30373cf083f2": {
       "attrs": {
        "height": 0.8,
        "width": 0.8,
        "x": 0.1,
        "y": 0.1
       },
       "content": {
        "cell": "26e4d8f4-e16f-41b2-aa02-e39a9c87d136",
        "part": "whole"
       },
       "id": "e4bafa08-bc36-467a-9833-30373cf083f2"
      }
     }
    },
    "7ee1c9e3-7b18-4557-9d1d-88051229d9e7": {
     "id": "7ee1c9e3-7b18-4557-9d1d-88051229d9e7",
     "prev": "607038d5-e050-4d17-8ed8-d0894f67e4d6",
     "regions": {
      "b26a91d7-c395-4d96-9934-a3c04b528cdd": {
       "attrs": {
        "height": 0.8,
        "width": 0.8,
        "x": 0.1,
        "y": 0.1
       },
       "content": {
        "cell": "03f745db-a627-4fe9-ba28-44a92dbe9714",
        "part": "whole"
       },
       "id": "b26a91d7-c395-4d96-9934-a3c04b528cdd"
      }
     }
    },
    "971608f9-c49d-42c0-809d-a3d564611fd1": {
     "id": "971608f9-c49d-42c0-809d-a3d564611fd1",
     "prev": "54260b16-95f4-49c2-a481-2d05ad95a00a",
     "regions": {
      "f807a9e7-e4a2-4dcb-a81d-0341273b6335": {
       "attrs": {
        "height": 0.8,
        "width": 0.8,
        "x": 0.1,
        "y": 0.1
       },
       "content": {
        "cell": "f9e23ba7-c476-4de2-8bec-ec17bf8cd36e",
        "part": "whole"
       },
       "id": "f807a9e7-e4a2-4dcb-a81d-0341273b6335"
      }
     }
    },
    "995c5bee-a5b7-4225-ab99-24ad85cd0f05": {
     "id": "995c5bee-a5b7-4225-ab99-24ad85cd0f05",
     "prev": "194faf5b-3e37-4ed4-b8a3-246544088540",
     "regions": {
      "6296a254-6989-4582-8173-b048316ee0b3": {
       "attrs": {
        "height": 0.8,
        "width": 0.8,
        "x": 0.1,
        "y": 0.1
       },
       "content": {
        "cell": "3f34fe34-5f36-4f21-a2ee-1db3e7b30c17",
        "part": "whole"
       },
       "id": "6296a254-6989-4582-8173-b048316ee0b3"
      }
     }
    },
    "a8026039-7b0c-4361-876c-62cf8dad58bb": {
     "id": "a8026039-7b0c-4361-876c-62cf8dad58bb",
     "prev": "b7bbd383-e9b2-412f-b87b-71c90fc99b8d",
     "regions": {
      "cbfaff6a-c8f2-40c2-8bb7-b52682af6ca3": {
       "attrs": {
        "height": 0.8,
        "width": 0.8,
        "x": 0.1,
        "y": 0.1
       },
       "content": {
        "cell": "b05383dd-d081-491e-818a-b0564478b709",
        "part": "whole"
       },
       "id": "cbfaff6a-c8f2-40c2-8bb7-b52682af6ca3"
      }
     }
    },
    "a9882ae7-be08-4cf1-8bfb-64b56f12dd85": {
     "id": "a9882ae7-be08-4cf1-8bfb-64b56f12dd85",
     "prev": "6a8595c6-8042-4d76-9823-f577ba261f43",
     "regions": {
      "787271fa-3d1e-4bcc-ba14-5052c50d60c7": {
       "attrs": {
        "height": 0.8,
        "width": 0.8,
        "x": 0.1,
        "y": 0.1
       },
       "content": {
        "cell": "9de1df88-2ad9-4b66-9762-e5c740649aa0",
        "part": "whole"
       },
       "id": "787271fa-3d1e-4bcc-ba14-5052c50d60c7"
      }
     }
    },
    "b7bbd383-e9b2-412f-b87b-71c90fc99b8d": {
     "id": "b7bbd383-e9b2-412f-b87b-71c90fc99b8d",
     "prev": "e630ced3-5ea7-4b6d-950b-f4e50e0220dd",
     "regions": {
      "a65a5afe-aa8a-46fb-a53f-327ea1b4af3e": {
       "attrs": {
        "height": 0.8,
        "width": 0.8,
        "x": 0.1,
        "y": 0.1
       },
       "content": {
        "cell": "c195f850-6627-48c1-b64e-26dc676713dc",
        "part": "whole"
       },
       "id": "a65a5afe-aa8a-46fb-a53f-327ea1b4af3e"
      }
     }
    },
    "d19b3cf6-cc67-4eae-a3d2-f69127953356": {
     "id": "d19b3cf6-cc67-4eae-a3d2-f69127953356",
     "prev": "2b02a656-983d-49e3-8ac1-fafd51c7a982",
     "regions": {
      "3cf3cb38-9f8a-407b-9c6b-fae9a5f99731": {
       "attrs": {
        "height": 0.8,
        "width": 0.8,
        "x": 0.1,
        "y": 0.1
       },
       "content": {
        "cell": "faa85023-3e8c-42c2-8386-7a2ac1cf8dcb",
        "part": "whole"
       },
       "id": "3cf3cb38-9f8a-407b-9c6b-fae9a5f99731"
      }
     }
    },
    "dcad2eac-033a-4fdd-a8d7-c46abf66f087": {
     "id": "dcad2eac-033a-4fdd-a8d7-c46abf66f087",
     "prev": "a8026039-7b0c-4361-876c-62cf8dad58bb",
     "regions": {
      "0f3abe32-8b7b-4039-9242-37f4c5eafbc0": {
       "attrs": {
        "height": 0.8,
        "width": 0.8,
        "x": 0.1,
        "y": 0.1
       },
       "content": {
        "cell": "2be0cd13-fdce-4966-b1db-9aed83b4ac86",
        "part": "whole"
       },
       "id": "0f3abe32-8b7b-4039-9242-37f4c5eafbc0"
      }
     }
    },
    "dcd71fe5-81ed-4ac2-baa4-b1b923a67250": {
     "id": "dcd71fe5-81ed-4ac2-baa4-b1b923a67250",
     "prev": "7ee1c9e3-7b18-4557-9d1d-88051229d9e7",
     "regions": {
      "62e70224-b923-4b0c-a629-8d1de9c613f2": {
       "attrs": {
        "height": 0.8,
        "width": 0.8,
        "x": 0.1,
        "y": 0.1
       },
       "content": {
        "cell": "dd065718-c3cc-482b-8acf-5d086f5e799d",
        "part": "whole"
       },
       "id": "62e70224-b923-4b0c-a629-8d1de9c613f2"
      }
     }
    },
    "e630ced3-5ea7-4b6d-950b-f4e50e0220dd": {
     "id": "e630ced3-5ea7-4b6d-950b-f4e50e0220dd",
     "prev": "5cf24084-b366-4fa8-9663-0c2081dbc4fa",
     "regions": {
      "471d4ed8-1fb5-4558-b1f4-fb5c1373421f": {
       "attrs": {
        "height": 0.8,
        "width": 0.8,
        "x": 0.1,
        "y": 0.1
       },
       "content": {
        "cell": "980da49a-bdd2-4d8d-b931-bb64925a4bb1",
        "part": "whole"
       },
       "id": "471d4ed8-1fb5-4558-b1f4-fb5c1373421f"
      }
     }
    }
   },
   "themes": {}
  }
 },
 "nbformat": 4,
 "nbformat_minor": 0
}
