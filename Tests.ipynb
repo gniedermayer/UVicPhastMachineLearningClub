{
 "cells": [
  {
   "cell_type": "markdown",
   "metadata": {},
   "source": [
    "# Test Book\n",
    "\n",
    "<html>\n",
    "\t<head>\n",
    "\t\t<title>My first three.js app</title>\n",
    "\t\t<style>\n",
    "\t\t\tbody { margin: 0; }\n",
    "\t\t\tcanvas { width: 100%; height: 100% }\n",
    "\t\t</style>\n",
    "\t</head>\n",
    "\t<body>\n",
    "\t\t<script src=\"js/three.js\"></script>\n",
    "\t\t<script src=\"js/OrbitControls.js\"></script>\n",
    "\t\t<script src=\"data/CellContainer.js\"></script>\n",
    "\t\t<script>\n",
    "\n",
    "\n",
    "\t\t\tvar scene = new THREE.Scene();\n",
    "\t\t\tscene.background = new THREE.Color( 0xfffff0 );\n",
    "\t\t\tvar camera = new THREE.PerspectiveCamera( 75, window.innerWidth/window.innerHeight, 0.1, 20000 );\n",
    "\t\t\tvar pos = {\"x\":1};\n",
    "\t\t\tvar renderer =  new THREE.WebGLRenderer();\n",
    "\t\t\trenderer.setSize( window.innerWidth, window.innerHeight );\n",
    "\t\t\tdocument.body.appendChild( renderer.domElement );\n",
    "\t\t\tvar controls = new THREE.OrbitControls( camera, renderer.domElement );\n",
    "\t\t\tvar material = new THREE.MeshBasicMaterial( { color: \"rgb(100, 100, 250)\"} );\n",
    "\t\t\tvar particles = 187650;\n",
    "\t\t\tvar radius = 200;\n",
    "\t\t\tvar geometry = new THREE.BufferGeometry();\n",
    "\t\t\tvar positions = new Float32Array( particles * 3 );\n",
    "\t\t\tvar colors = new Float32Array( particles * 3 );\n",
    "\t\t\tvar sizes = new Float32Array( particles );\n",
    "\t\t\tvar color = new THREE.Color();\n",
    "\t\t\t\n",
    "\t\t\tfor ( var i = 0, i3 = 0; i < particles; i ++, i3 += 3 ) {\n",
    "\t\t\t\tpositions[ i3 + 0 ] = DATA.y[i];\n",
    "\t\t\t\tpositions[ i3 + 1 ] = DATA.z[i];\n",
    "\t\t\t\tpositions[ i3 + 2 ] = DATA.e[i];\n",
    "\t\t\t\tcolor.setHSL( i / particles, 1.0, 0.5 );\n",
    "\t\t\t\tcolors[ i3 + 0 ] = 1-color.r;\n",
    "\t\t\t\tcolors[ i3 + 1 ] = 1-color.g;\n",
    "\t\t\t\tcolors[ i3 + 2 ] = 1-color.b;\n",
    "\t\t\t\tsizes[ i ] = 200;\n",
    "\t\t\t}\n",
    "\t\t\tvar starsMaterial = new THREE.PointsMaterial( { color: 0x000000 } );\n",
    "\t\t\tgeometry.addAttribute( 'position', new THREE.BufferAttribute( positions, 3 ) );\n",
    "\t\t\tgeometry.addAttribute( 'customColor', new THREE.BufferAttribute( colors, 3 ) );\n",
    "\t\t\tgeometry.addAttribute( 'size', new THREE.BufferAttribute( sizes, 1 ) );\n",
    "\t\t\tvar particleSystem = new THREE.Points( geometry, starsMaterial );\n",
    "\t\t\tscene.add( particleSystem );\n",
    "\t\t\tcamera.position.z = 2;\n",
    "\n",
    "\t\t\tvar render = function () {\n",
    "\t\t\t\trequestAnimationFrame( render );\n",
    "\t\t\t\tparticleSystem.rotation.y += 0.002;\n",
    "\n",
    "\t\t\t\trenderer.render(scene, camera);\n",
    "\t\t\t};\n",
    "\t\t\tfunction onWindowResize() {\n",
    "\t\t\t\tcamera.aspect = window.innerWidth / window.innerHeight;\n",
    "\t\t\t\tcamera.updateProjectionMatrix();\n",
    "\t\t\t\trenderer.setSize( window.innerWidth, window.innerHeight );\n",
    "\t\t\t}\n",
    "\t\t\trender();\n",
    "\t\t</script>\n",
    "\t</body>\n",
    "</html>"
   ]
  },
  {
   "cell_type": "code",
   "execution_count": null,
   "metadata": {
    "collapsed": true
   },
   "outputs": [],
   "source": []
  }
 ],
 "metadata": {
  "kernelspec": {
   "display_name": "Python [conda root]",
   "language": "python",
   "name": "conda-root-py"
  },
  "language_info": {
   "codemirror_mode": {
    "name": "ipython",
    "version": 3
   },
   "file_extension": ".py",
   "mimetype": "text/x-python",
   "name": "python",
   "nbconvert_exporter": "python",
   "pygments_lexer": "ipython3",
   "version": "3.4.5"
  }
 },
 "nbformat": 4,
 "nbformat_minor": 0
}
